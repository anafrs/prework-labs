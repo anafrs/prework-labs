{
 "cells": [
  {
   "cell_type": "markdown",
   "metadata": {},
   "source": [
    "<img src=\"https://bit.ly/2VnXWr2\" width=\"100\" align=\"left\"/>"
   ]
  },
  {
   "cell_type": "markdown",
   "metadata": {},
   "source": [
    "# Robin Hood\n",
    "Robin Hood has entered a competition to win the archery contest in Sherwood. With his bow and arrows, he needs to shoot on a target and try to hit as close as possible to the center.\n",
    "\n",
    "![](images/arrows.jpg)\n",
    "\n",
    "## Context\n",
    "In this challenge, the landing position of arrows shot by archers in the competition will be represented using 2-dimensional coordinates. \n",
    "\n",
    "In the 2-dimensional space, a point can be defined by a pair of values that correspond to the horizontal coordinate (x) and the vertical coordinate (y). For example, in our case, an arrow that hits the center of the archery target will land in position (0, 0) on the coordinate axes. \n",
    "\n",
    "The space can be divided into 4 zones (quadrants): Q1, Q2, Q3, Q4. If a point is in Q1, both its x coordinate and y coordinate are positive. Any point with a null x or y coordinate is considered to not belong to any quadrant. \n",
    "\n",
    "If you want to know more about the cartesian coordinate system, you can check this [link](https://en.wikipedia.org/wiki/Cartesian_coordinate_system). \n",
    "\n",
    "## Tools\n",
    "You don't necessarily need to use all the tools. Maybe you opt to use some of them or completely different ones, they are given to help you shape the exercise. Programming exercises can be solved in many different ways.\n",
    "* Data structures: **lists, sets, tuples**\n",
    "* Conditional statements: **if-elif-else**\n",
    "* Loop: **while/for**\n",
    "* Minimum (optional sorting)\n",
    "\n",
    "## Tasks\n",
    "Robin Hood has hit the following points:"
   ]
  },
  {
   "cell_type": "code",
   "execution_count": 2,
   "metadata": {},
   "outputs": [],
   "source": [
    "points = [(4, 5), (-0, 2), (4, 7), (1, -3), (3, -2), (4, 5), (3, 2), (5, 7), (-5, 7), (2, 2), (-4, 5), (0, -2),\n",
    "          (-4, 7), (-1, 3), (-3, 2), (-4, -5), (-3, 2), (5, 7), (5, 7), (2, 2), (9, 9), (-8, -9)]"
   ]
  },
  {
   "cell_type": "markdown",
   "metadata": {},
   "source": [
    "#### 1. Robin Hood is famous for hitting an arrow with another arrow. Find the coordinates of the points where an arrow hits another arrow."
   ]
  },
  {
   "cell_type": "code",
   "execution_count": 9,
   "metadata": {},
   "outputs": [
    {
     "name": "stdout",
     "output_type": "stream",
     "text": [
      "These were the coordinates where an arrow hit another arrow {(4, 5), (5, 7), (-3, 2), (2, 2)}\n"
     ]
    }
   ],
   "source": [
    "coordinate_hit = []\n",
    "duplicate_values = []\n",
    "\n",
    "for coord in points:\n",
    "    if coord not in coordinate_hit:\n",
    "        coordinate_hit.append(coord)\n",
    "    else:\n",
    "        duplicate_values.append(coord)\n",
    "\n",
    "print(\"These were the coordinates where an arrow hit another arrow\", set(duplicate_values))"
   ]
  },
  {
   "cell_type": "markdown",
   "metadata": {},
   "source": [
    "#### 2. Calculate how many arrows have fallen in each quadrant. \n",
    "**Note**: the arrows that fall in the axis (x=0 or y=0) don't belong to any quadrant."
   ]
  },
  {
   "cell_type": "code",
   "execution_count": 278,
   "metadata": {},
   "outputs": [],
   "source": [
    "quadrant_1 = []\n",
    "quadrant_2 = []\n",
    "quadrant_3 = []\n",
    "quadrant_4 = []\n",
    "no_quadrant = []\n",
    "\n",
    "for x, y in points:\n",
    "    if x > 0 and y > 0:\n",
    "        quadrant_1.insert(0,(x,y))\n",
    "    elif x > 0 and y < 0:\n",
    "        quadrant_2.insert(0,(x,y))\n",
    "    elif x < 0 and y < 0:\n",
    "        quadrant_3.insert(0, (x,y))\n",
    "    elif x < 0 and y > 0:\n",
    "        quadrant_4.insert(0, (x,y))\n",
    "    else:\n",
    "        no_quadrant.insert(0, (x,y))    "
   ]
  },
  {
   "cell_type": "code",
   "execution_count": 279,
   "metadata": {},
   "outputs": [
    {
     "name": "stdout",
     "output_type": "stream",
     "text": [
      " Arrows in Q1: 10 \n",
      " Arrows in Q2: 2 \n",
      " Arrows in Q3: 2 \n",
      " Arrows in Q4: 6 \n",
      " Arrows in no quadrant: 2\n"
     ]
    }
   ],
   "source": [
    "print(\" Arrows in Q1:\",len(quadrant_1),\"\\n\",\n",
    "      \"Arrows in Q2:\", len(quadrant_2),\"\\n\",\n",
    "      \"Arrows in Q3:\", len(quadrant_3),\"\\n\",\n",
    "      \"Arrows in Q4:\", len(quadrant_4),\"\\n\",\n",
    "      \"Arrows in no quadrant:\", len(no_quadrant))\n"
   ]
  },
  {
   "cell_type": "markdown",
   "metadata": {},
   "source": [
    "#### 3. Find the point closest to the center. Calculate its distance to the center. \n",
    "Take into account that there might be more than one point at the minimum distance to the center.\n",
    "\n",
    "**Hint**: Use the Euclidean distance. You can find more information about it [here](https://en.wikipedia.org/wiki/Euclidean_distance).  \n",
    "**Hint**: Defining a function that calculates the distance to the center can help."
   ]
  },
  {
   "cell_type": "code",
   "execution_count": 280,
   "metadata": {},
   "outputs": [],
   "source": [
    "# video used to compute distance https://www.youtube.com/watch?v=0IOEPcAHgi4 "
   ]
  },
  {
   "cell_type": "code",
   "execution_count": 29,
   "metadata": {},
   "outputs": [],
   "source": [
    "from math import sqrt\n",
    "\n",
    "distances_to_centre = []\n",
    "position_of_min_distance = []\n",
    "for x, y in points:\n",
    "    distance = sqrt((x-0) ** 2 + (y-0)**2)\n",
    "    distances_to_centre.append(distance)\n",
    "\n",
    "min_distance_to_centre = min(distances_to_centre)\n",
    "\n",
    "for position, distance in zip(points, distances_to_centre):\n",
    "    if distance == min_distance_to_centre:\n",
    "        position_of_min_distance.append(position)\n",
    "\n"
   ]
  },
  {
   "cell_type": "code",
   "execution_count": 30,
   "metadata": {},
   "outputs": [
    {
     "data": {
      "text/plain": [
       "[(0, 2), (0, -2)]"
      ]
     },
     "execution_count": 30,
     "metadata": {},
     "output_type": "execute_result"
    }
   ],
   "source": [
    "position_of_min_distance"
   ]
  },
  {
   "cell_type": "markdown",
   "metadata": {},
   "source": [
    "#### 4. If the archery target has a radius of 9, calculate the number of arrows that won't hit the target. \n",
    "**Hint**: Use the function created in step 3. "
   ]
  },
  {
   "cell_type": "code",
   "execution_count": 285,
   "metadata": {},
   "outputs": [
    {
     "name": "stdout",
     "output_type": "stream",
     "text": [
      "The arrow didn't hit the target 2 times.\n"
     ]
    }
   ],
   "source": [
    "missed_target = []\n",
    "times = 0\n",
    "for distance in distance_to_centre:\n",
    "    if distance >= 9:\n",
    "        missed_target.append(1)\n",
    "    else:\n",
    "        missed_target.append(0)\n",
    "print(\"The arrow didn't hit the target\",sum(missed_target),\"times.\")\n",
    "    \n",
    "    "
   ]
  }
 ],
 "metadata": {
  "kernelspec": {
   "display_name": "Python 3",
   "language": "python",
   "name": "python3"
  },
  "language_info": {
   "codemirror_mode": {
    "name": "ipython",
    "version": 3
   },
   "file_extension": ".py",
   "mimetype": "text/x-python",
   "name": "python",
   "nbconvert_exporter": "python",
   "pygments_lexer": "ipython3",
   "version": "3.7.2"
  }
 },
 "nbformat": 4,
 "nbformat_minor": 2
}
