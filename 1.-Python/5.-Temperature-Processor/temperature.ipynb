{
 "cells": [
  {
   "cell_type": "markdown",
   "metadata": {},
   "source": [
    "<img src=\"https://bit.ly/2VnXWr2\" width=\"100\" align=\"left\">"
   ]
  },
  {
   "cell_type": "markdown",
   "metadata": {},
   "source": [
    "# Temperature Sensor\n",
    "\n",
    "There is a temperature sensor in the processor of your company's server. The company wants to analyze the data provided by the sensor to decide if they should change the cooling system for a better one. As changing the cooling system is expensive and you are an excellent data analyst, you can't make a decision without basis.\n",
    "\n",
    "## Tools\n",
    "You don't necessarily need to use all the tools. Maybe you opt to use some of them or completely different ones, they are given to help you shape the exercise. Programming exercises can be solved in many different ways.\n",
    "1. Data structures: **lists**\n",
    "2. Loops: **list comprehension**\n",
    "3. Functions: **min, max, print, len**\n",
    "4. Conditional statements: **if-elif-else**\n",
    "\n",
    "## Tasks\n",
    "The temperatures measured throughout the 24 hours of a day are:"
   ]
  },
  {
   "cell_type": "code",
   "execution_count": 2,
   "metadata": {},
   "outputs": [],
   "source": [
    "temperatures_C = [33, 66, 65, 0, 59, 60, 62, 64, 70, 76, 80, 81, 80, 83, 90, 79, 61, 53, 50, 49, 53, 48, 45, 39]"
   ]
  },
  {
   "cell_type": "markdown",
   "metadata": {},
   "source": [
    "The first element of the list is the temperature at 12am, the second element is the temperature at 1am, and so on. \n",
    "\n",
    "The company has decided that if one of the following events occurs, then the cooling system needs to be replaced for a new one to avoid damaging the processor.\n",
    "* More than 4 temperatures are greater than or equal to 70ºC.\n",
    "* Any temperature is above 80ºC.\n",
    "* The average temperature exceeds 65ºC.\n",
    "\n",
    "Follow the steps so that you can make the decision.\n",
    "\n",
    "#### 1. Find the minimum temperature of the day and store it in a variable."
   ]
  },
  {
   "cell_type": "code",
   "execution_count": 3,
   "metadata": {},
   "outputs": [
    {
     "name": "stdout",
     "output_type": "stream",
     "text": [
      "The minimum temperature is 0\n"
     ]
    }
   ],
   "source": [
    "min_temperature = min(temperatures_C)\n",
    "print(\"The minimum temperature is\", min_temperature)"
   ]
  },
  {
   "cell_type": "markdown",
   "metadata": {},
   "source": [
    "#### 2. Find the maximum temperature of the day and store it in a variable."
   ]
  },
  {
   "cell_type": "code",
   "execution_count": 4,
   "metadata": {},
   "outputs": [
    {
     "name": "stdout",
     "output_type": "stream",
     "text": [
      "The maximum temperature is 90\n"
     ]
    }
   ],
   "source": [
    "max_temperature = max(temperatures_C)\n",
    "print(\"The maximum temperature is\", max_temperature)"
   ]
  },
  {
   "cell_type": "markdown",
   "metadata": {},
   "source": [
    "#### 3. Create a list with the temperatures that are greater than or equal to 70ºC. Store it in a variable."
   ]
  },
  {
   "cell_type": "code",
   "execution_count": 13,
   "metadata": {},
   "outputs": [],
   "source": [
    "temp_equal_above_70 = [temp for temp in temperatures_C if temp >= 70]"
   ]
  },
  {
   "cell_type": "markdown",
   "metadata": {},
   "source": [
    "#### 4. Find the average temperature of the day and store it in a variable."
   ]
  },
  {
   "cell_type": "code",
   "execution_count": 6,
   "metadata": {},
   "outputs": [],
   "source": [
    "avg_temp = sum(temperatures_C)/len(temperatures_C)"
   ]
  },
  {
   "cell_type": "markdown",
   "metadata": {},
   "source": [
    "#### 5. Imagine that there was a sensor failure at 3am and the data for that specific hour was not recorded. How would you estimate the missing value? Replace the current value of the list at 3am for an estimation. "
   ]
  },
  {
   "cell_type": "code",
   "execution_count": 7,
   "metadata": {},
   "outputs": [
    {
     "name": "stdout",
     "output_type": "stream",
     "text": [
      "94.5\n"
     ]
    }
   ],
   "source": [
    "#if a failure in the sensor is represented by a 0, estimate average between previous and next value.\n",
    "for temp in temperatures_C:\n",
    "    if temp == 0:\n",
    "        prev_elem = temperatures_C[temperatures_C.index(temp) - 1]\n",
    "        next_elem = temperatures_C[temperatures_C.index(temp) + 1]\n",
    "        average = prev_elem + next_elem /2\n",
    "        print(average)"
   ]
  },
  {
   "cell_type": "markdown",
   "metadata": {},
   "source": [
    "#### 6. Bonus: the maintenance staff is from the United States and does not understand the international metric system. Help them by converting the temperatures from Celsius to Fahrenheit.\n",
    "To know more about temperature conversion check this [link](https://en.wikipedia.org/wiki/Conversion_of_units_of_temperature).\n",
    "\n",
    "**Formula**: \n",
    "\n",
    "$F = 1.8 * C + 32$"
   ]
  },
  {
   "cell_type": "code",
   "execution_count": 8,
   "metadata": {},
   "outputs": [
    {
     "name": "stdout",
     "output_type": "stream",
     "text": [
      "[91.4, 150.8, 149.0, 32.0, 138.2, 140.0, 143.6, 147.2, 158.0, 168.8, 176.0, 177.8, 176.0, 181.4, 194.0, 174.2, 141.8, 127.4, 122.0, 120.2, 127.4, 118.4, 113.0, 102.2]\n"
     ]
    }
   ],
   "source": [
    "#converting temperatures from Celsius to Fahrenheit\n",
    "temperatures_F = []\n",
    "for temp in temperatures_C:\n",
    "    fahrenheit = round(1.8 * temp + 32, 2)\n",
    "    temperatures_F.append(fahrenheit)\n",
    "    \n",
    "print(temperatures_F)"
   ]
  },
  {
   "cell_type": "markdown",
   "metadata": {},
   "source": [
    "#### 7. Make a decision!\n",
    "Now it's time to make a decision taking into account what you have seen until now. \n",
    "\n",
    "Remember that if one of the following events occurs, then the cooling system needs to be replaced for a new one to avoid damaging the processor.\n",
    "* More than 4 temperatures are greater than or equal to 70ºC.\n",
    "* Any temperature is above 80ºC.\n",
    "* The average temperature exceeds 65ºC.\n",
    "\n",
    "#### To make your decision, check if any of the three conditions above is met. You might need to use some of the variables you created in steps 1 to 6. Print a message to show if the cooling system needs to be changed or not."
   ]
  },
  {
   "cell_type": "code",
   "execution_count": 9,
   "metadata": {},
   "outputs": [
    {
     "name": "stdout",
     "output_type": "stream",
     "text": [
      "The colling system needs to be replaced. There are 6 alerts.\n"
     ]
    }
   ],
   "source": [
    "alerts = []\n",
    "for temp in temperatures_C:\n",
    "    if temp > 80:\n",
    "        above_80 = 1\n",
    "        alerts.append(above_80)\n",
    "    \n",
    "    elif temp >= 70 and temp <80:\n",
    "        above_70 = 1\n",
    "        alerts.append(above_70)\n",
    "\n",
    "high_avg_temp = 0\n",
    "if avg_temp > 65:\n",
    "    high_avg_temp = 1\n",
    "    alerts.append(high_avg_temp)\n",
    "    \n",
    "number_of_alerts = sum(alerts)\n",
    "\n",
    "if number_of_alerts >0:\n",
    "    print(\"The colling system needs to be replaced. There are\", number_of_alerts, \"alerts.\")\n"
   ]
  },
  {
   "cell_type": "markdown",
   "metadata": {},
   "source": [
    "## Bonus\n",
    "\n",
    "The company has decided that the decision you made is not valid. They want you to analyze the data again but this time, the conditions that need to be met in order to change the cooling system are different.\n",
    "\n",
    "This time, if one of the following events occurs, then the cooling system needs to be replaced:\n",
    "* The temperature is greater than 70ºC during more than 4 consecutive hours.\n",
    "* Any temperature is above 80ºC.\n",
    "* The average temperature exceeds 65ºC.\n",
    "\n",
    "Follow the steps so that you can make the decision.\n",
    "\n",
    "#### 1. Create a list with the hours where the temperature is greater than 70ºC. Store it in a variable."
   ]
  },
  {
   "cell_type": "code",
   "execution_count": 12,
   "metadata": {},
   "outputs": [
    {
     "data": {
      "text/plain": [
       "[76, 80, 81, 80, 83, 90, 79]"
      ]
     },
     "execution_count": 12,
     "metadata": {},
     "output_type": "execute_result"
    }
   ],
   "source": [
    "temp_above_70 = [temp for temp in temperatures_C if temp > 70]\n",
    "temp_above_70"
   ]
  },
  {
   "cell_type": "markdown",
   "metadata": {},
   "source": [
    "#### 2. Check if the list you created in step 1 has more than 4 consecutive hours. "
   ]
  },
  {
   "cell_type": "code",
   "execution_count": 99,
   "metadata": {},
   "outputs": [
    {
     "name": "stdout",
     "output_type": "stream",
     "text": [
      "There are at least 4 consecutive hours in which the temperature was above 70C\n"
     ]
    }
   ],
   "source": [
    "#create list that gives the index of the temperatures above 70 in the temperatures_C list\n",
    "temp_position = [i for i, n in enumerate(temperatures_C) if n in temp_above_70]\n",
    "\n",
    "#check if temp_position have more than 4 consecutive numbers\n",
    "index_list = []\n",
    "count = 0\n",
    "for temp in range(len(temp_position) -1):\n",
    "    if temp_position[temp] + 1 == temp_position[temp +1]:\n",
    "        count +=1\n",
    "    else:\n",
    "        index_list.append(count)\n",
    "        count = 1\n",
    "    index_list.append(count)\n",
    "if len(index_list) >4 :\n",
    "    print(\"There are at least 4 consecutive hours in which the temperature was above 70C\")"
   ]
  },
  {
   "cell_type": "markdown",
   "metadata": {},
   "source": [
    "#### 3. Make the decision!\n",
    "To make your decision, check if any of the three conditions is met. Print a message to show if the cooling system needs to be changed or not."
   ]
  },
  {
   "cell_type": "code",
   "execution_count": 129,
   "metadata": {},
   "outputs": [
    {
     "name": "stdout",
     "output_type": "stream",
     "text": [
      "Cooling System needs to be changed\n"
     ]
    }
   ],
   "source": [
    "def change_cooling_system(l):\n",
    "    \"\"\"function to check if any of the conditions are true\"\"\"\n",
    "    for i in l:\n",
    "        if i >= 80:\n",
    "            return True\n",
    "        elif i >= 70:\n",
    "            return True\n",
    "        elif len(index_list) > 4:\n",
    "            return True\n",
    "        else:\n",
    "            return False\n",
    "\n",
    "if change_cooling_system(temperatures_C) == True:\n",
    "    print(\"Cooling System needs to be changed\")\n",
    "else:\n",
    "    print(\"Cooling System does not need to be changed\")\n"
   ]
  },
  {
   "cell_type": "markdown",
   "metadata": {},
   "source": [
    "#### 4. Find the average value of the temperature lists (ºC and ºF). What is the relation between both average values?"
   ]
  },
  {
   "cell_type": "code",
   "execution_count": 132,
   "metadata": {},
   "outputs": [
    {
     "name": "stdout",
     "output_type": "stream",
     "text": [
      "Average temperature in Celsius -  60.25  - vs average temperature in Fahrenheit -  140.45\n"
     ]
    }
   ],
   "source": [
    "avg_temp_c = sum(temperatures_C)/len(temperatures_C)\n",
    "avg_temp_f = sum(temperatures_F)/len(temperatures_F)\n",
    "print(\"Average temperature in Celsius - \", avg_temp_c, \" - vs average temperature in Fahrenheit - \",avg_temp_f)\n"
   ]
  },
  {
   "cell_type": "markdown",
   "metadata": {},
   "source": [
    "#### 5. Find the standard deviation of the temperature lists (ºC and ºF). What is the relation between both standard deviations?"
   ]
  },
  {
   "cell_type": "code",
   "execution_count": 137,
   "metadata": {},
   "outputs": [
    {
     "name": "stdout",
     "output_type": "stream",
     "text": [
      "Standard deviation for the temperatures in Celsius is 19.29 and for the temperatures in Fahrenheit is 140.45\n"
     ]
    }
   ],
   "source": [
    "#importing package\n",
    "import statistics as st\n",
    "\n",
    "#calculating and rounding result\n",
    "celsius_st_dev= round(st.pstdev(temperatures_C),2)\n",
    "fahr_st_dev = round(st.pstdev(temperatures_F),2)\n",
    "\n",
    "print(\"Standard deviation for the temperatures in Celsius is\", celsius_st_dev, \"and for the temperatures in Fahrenheit is\", avg_temp_f)"
   ]
  }
 ],
 "metadata": {
  "kernelspec": {
   "display_name": "Python 3",
   "language": "python",
   "name": "python3"
  },
  "language_info": {
   "codemirror_mode": {
    "name": "ipython",
    "version": 3
   },
   "file_extension": ".py",
   "mimetype": "text/x-python",
   "name": "python",
   "nbconvert_exporter": "python",
   "pygments_lexer": "ipython3",
   "version": "3.7.2"
  }
 },
 "nbformat": 4,
 "nbformat_minor": 2
}
